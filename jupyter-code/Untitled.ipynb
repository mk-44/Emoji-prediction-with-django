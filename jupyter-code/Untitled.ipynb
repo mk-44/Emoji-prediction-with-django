{
 "cells": [
  {
   "cell_type": "code",
   "execution_count": 87,
   "id": "c12bcc34",
   "metadata": {},
   "outputs": [],
   "source": [
    "import numpy as np\n",
    "import pandas as pd\n",
    "import matplotlib.pyplot as plt"
   ]
  },
  {
   "cell_type": "code",
   "execution_count": 7,
   "id": "23b1daa3",
   "metadata": {},
   "outputs": [
    {
     "data": {
      "text/html": [
       "<div>\n",
       "<style scoped>\n",
       "    .dataframe tbody tr th:only-of-type {\n",
       "        vertical-align: middle;\n",
       "    }\n",
       "\n",
       "    .dataframe tbody tr th {\n",
       "        vertical-align: top;\n",
       "    }\n",
       "\n",
       "    .dataframe thead th {\n",
       "        text-align: right;\n",
       "    }\n",
       "</style>\n",
       "<table border=\"1\" class=\"dataframe\">\n",
       "  <thead>\n",
       "    <tr style=\"text-align: right;\">\n",
       "      <th></th>\n",
       "      <th>0</th>\n",
       "      <th>1</th>\n",
       "    </tr>\n",
       "  </thead>\n",
       "  <tbody>\n",
       "    <tr>\n",
       "      <th>0</th>\n",
       "      <td>never talk to me again</td>\n",
       "      <td>3</td>\n",
       "    </tr>\n",
       "    <tr>\n",
       "      <th>1</th>\n",
       "      <td>I am proud of your achievements</td>\n",
       "      <td>2</td>\n",
       "    </tr>\n",
       "    <tr>\n",
       "      <th>2</th>\n",
       "      <td>It is the worst day in my life</td>\n",
       "      <td>3</td>\n",
       "    </tr>\n",
       "    <tr>\n",
       "      <th>3</th>\n",
       "      <td>Miss you so much</td>\n",
       "      <td>0</td>\n",
       "    </tr>\n",
       "    <tr>\n",
       "      <th>4</th>\n",
       "      <td>food is life</td>\n",
       "      <td>4</td>\n",
       "    </tr>\n",
       "  </tbody>\n",
       "</table>\n",
       "</div>"
      ],
      "text/plain": [
       "                                 0  1\n",
       "0           never talk to me again  3\n",
       "1  I am proud of your achievements  2\n",
       "2   It is the worst day in my life  3\n",
       "3                 Miss you so much  0\n",
       "4                     food is life  4"
      ]
     },
     "execution_count": 7,
     "metadata": {},
     "output_type": "execute_result"
    }
   ],
   "source": [
    "train_df = pd.read_csv('./dataset/train_emoji.csv', header = None).iloc[:, :2]\n",
    "train_df.head()"
   ]
  },
  {
   "cell_type": "code",
   "execution_count": 10,
   "id": "da73c2c7",
   "metadata": {},
   "outputs": [
    {
     "data": {
      "text/html": [
       "<div>\n",
       "<style scoped>\n",
       "    .dataframe tbody tr th:only-of-type {\n",
       "        vertical-align: middle;\n",
       "    }\n",
       "\n",
       "    .dataframe tbody tr th {\n",
       "        vertical-align: top;\n",
       "    }\n",
       "\n",
       "    .dataframe thead th {\n",
       "        text-align: right;\n",
       "    }\n",
       "</style>\n",
       "<table border=\"1\" class=\"dataframe\">\n",
       "  <thead>\n",
       "    <tr style=\"text-align: right;\">\n",
       "      <th></th>\n",
       "      <th>0</th>\n",
       "      <th>1</th>\n",
       "    </tr>\n",
       "  </thead>\n",
       "  <tbody>\n",
       "    <tr>\n",
       "      <th>0</th>\n",
       "      <td>I want to eat\\t</td>\n",
       "      <td>4</td>\n",
       "    </tr>\n",
       "    <tr>\n",
       "      <th>1</th>\n",
       "      <td>he did not answer\\t</td>\n",
       "      <td>3</td>\n",
       "    </tr>\n",
       "    <tr>\n",
       "      <th>2</th>\n",
       "      <td>he got a very nice raise\\t</td>\n",
       "      <td>2</td>\n",
       "    </tr>\n",
       "    <tr>\n",
       "      <th>3</th>\n",
       "      <td>she got me a nice present\\t</td>\n",
       "      <td>2</td>\n",
       "    </tr>\n",
       "    <tr>\n",
       "      <th>4</th>\n",
       "      <td>ha ha ha it was so funny\\t</td>\n",
       "      <td>2</td>\n",
       "    </tr>\n",
       "  </tbody>\n",
       "</table>\n",
       "</div>"
      ],
      "text/plain": [
       "                             0  1\n",
       "0              I want to eat\\t  4\n",
       "1          he did not answer\\t  3\n",
       "2   he got a very nice raise\\t  2\n",
       "3  she got me a nice present\\t  2\n",
       "4   ha ha ha it was so funny\\t  2"
      ]
     },
     "execution_count": 10,
     "metadata": {},
     "output_type": "execute_result"
    }
   ],
   "source": [
    "test_df = pd.read_csv('./dataset/test_emoji.csv', header = None).iloc[:, :2]\n",
    "test_df.head()"
   ]
  },
  {
   "cell_type": "code",
   "execution_count": 11,
   "id": "b67d1a47",
   "metadata": {},
   "outputs": [],
   "source": [
    "for i in range(len(test_df.iloc[:, 0])):\n",
    "    if test_df.iloc[i, 0][-1] == '\\t':\n",
    "        test_df.iloc[i, 0] = test_df.iloc[i, 0][:-1]"
   ]
  },
  {
   "cell_type": "code",
   "execution_count": 12,
   "id": "1002accb",
   "metadata": {},
   "outputs": [
    {
     "data": {
      "text/html": [
       "<div>\n",
       "<style scoped>\n",
       "    .dataframe tbody tr th:only-of-type {\n",
       "        vertical-align: middle;\n",
       "    }\n",
       "\n",
       "    .dataframe tbody tr th {\n",
       "        vertical-align: top;\n",
       "    }\n",
       "\n",
       "    .dataframe thead th {\n",
       "        text-align: right;\n",
       "    }\n",
       "</style>\n",
       "<table border=\"1\" class=\"dataframe\">\n",
       "  <thead>\n",
       "    <tr style=\"text-align: right;\">\n",
       "      <th></th>\n",
       "      <th>0</th>\n",
       "      <th>1</th>\n",
       "    </tr>\n",
       "  </thead>\n",
       "  <tbody>\n",
       "    <tr>\n",
       "      <th>0</th>\n",
       "      <td>I want to eat</td>\n",
       "      <td>4</td>\n",
       "    </tr>\n",
       "    <tr>\n",
       "      <th>1</th>\n",
       "      <td>he did not answer</td>\n",
       "      <td>3</td>\n",
       "    </tr>\n",
       "    <tr>\n",
       "      <th>2</th>\n",
       "      <td>he got a very nice raise</td>\n",
       "      <td>2</td>\n",
       "    </tr>\n",
       "    <tr>\n",
       "      <th>3</th>\n",
       "      <td>she got me a nice present</td>\n",
       "      <td>2</td>\n",
       "    </tr>\n",
       "    <tr>\n",
       "      <th>4</th>\n",
       "      <td>ha ha ha it was so funny</td>\n",
       "      <td>2</td>\n",
       "    </tr>\n",
       "  </tbody>\n",
       "</table>\n",
       "</div>"
      ],
      "text/plain": [
       "                           0  1\n",
       "0              I want to eat  4\n",
       "1          he did not answer  3\n",
       "2   he got a very nice raise  2\n",
       "3  she got me a nice present  2\n",
       "4   ha ha ha it was so funny  2"
      ]
     },
     "execution_count": 12,
     "metadata": {},
     "output_type": "execute_result"
    }
   ],
   "source": [
    "test_df.head()"
   ]
  },
  {
   "cell_type": "code",
   "execution_count": 13,
   "id": "d206eefc",
   "metadata": {},
   "outputs": [],
   "source": [
    "emoji_dictionary = {\n",
    "    \"0\": \"\\u2764\\uFE0F\",\n",
    "    \"1\": \":baseball:\",\n",
    "    \"2\": \":grinning_face_with_big_eyes:\",\n",
    "    \"3\": \":disappointed_face:\",\n",
    "    \"4\": \":fork_and_knife:\",\n",
    "    \"5\": \":hundred_points:\",\n",
    "    \"6\": \":fire:\",\n",
    "    \"7\": \":face_blowing_a_kiss:\",\n",
    "    \"8\": \":chestnut:\",\n",
    "    \"9\": \":flexed_biceps:\"\n",
    "}"
   ]
  },
  {
   "cell_type": "code",
   "execution_count": 14,
   "id": "280edfdb",
   "metadata": {},
   "outputs": [],
   "source": [
    "import emoji"
   ]
  },
  {
   "cell_type": "code",
   "execution_count": 15,
   "id": "ca51773d",
   "metadata": {},
   "outputs": [
    {
     "name": "stdout",
     "output_type": "stream",
     "text": [
      "❤️\n",
      "⚾\n",
      "😃\n",
      "😞\n",
      "🍴\n",
      "💯\n",
      "🔥\n",
      "😘\n",
      "🌰\n",
      "💪\n"
     ]
    }
   ],
   "source": [
    "for k, v in emoji_dictionary.items():\n",
    "    print(emoji.emojize(v))"
   ]
  },
  {
   "cell_type": "code",
   "execution_count": 19,
   "id": "97f6b963",
   "metadata": {},
   "outputs": [],
   "source": [
    "X_train = train_df.iloc[:, 0].values\n",
    "X_test = test_df.iloc[:, 0].values\n",
    "Y_train = train_df.iloc[:, 1].values\n",
    "Y_test = test_df.iloc[:, 1].values"
   ]
  },
  {
   "cell_type": "code",
   "execution_count": 26,
   "id": "844e7ca1",
   "metadata": {},
   "outputs": [],
   "source": [
    "from keras.utils import to_categorical"
   ]
  },
  {
   "cell_type": "code",
   "execution_count": 28,
   "id": "63e2c251",
   "metadata": {},
   "outputs": [],
   "source": [
    "Y_train_cat = to_categorical(Y_train)\n",
    "Y_test_cat = to_categorical(Y_test)"
   ]
  },
  {
   "cell_type": "code",
   "execution_count": 29,
   "id": "9d24eae8",
   "metadata": {},
   "outputs": [],
   "source": [
    "word_vectors = {}"
   ]
  },
  {
   "cell_type": "code",
   "execution_count": 31,
   "id": "f0d5efa2",
   "metadata": {},
   "outputs": [],
   "source": [
    "with open('./glove.6B.50d.txt', 'r', encoding = 'utf-8') as f:\n",
    "    for line in f:\n",
    "        word = line.split()[0]\n",
    "        vector = line.split()[1:]\n",
    "        word_vectors[word] = vector"
   ]
  },
  {
   "cell_type": "code",
   "execution_count": 57,
   "id": "ffa7ba0d",
   "metadata": {},
   "outputs": [],
   "source": [
    "def word_embedding(lines, dims = 50, max_len = 10):\n",
    "    cnt = 0\n",
    "    m = len(lines)\n",
    "    ans = np.zeros((m, max_len, dims))\n",
    "    \n",
    "    for i, line in enumerate(lines):\n",
    "        words = line.split()\n",
    "        for j, word in enumerate(words):\n",
    "            try:\n",
    "                ans[i, j] = word_vectors[word]\n",
    "                cnt += 1\n",
    "            except:\n",
    "                pass\n",
    "    return ans, cnt"
   ]
  },
  {
   "cell_type": "code",
   "execution_count": 58,
   "id": "cd3a1b9d",
   "metadata": {},
   "outputs": [],
   "source": [
    "X_train_embedding, cnt = word_embedding(X_train)"
   ]
  },
  {
   "cell_type": "code",
   "execution_count": 59,
   "id": "5149923e",
   "metadata": {},
   "outputs": [],
   "source": [
    "X_test_embedding, cnt = word_embedding(X_test)"
   ]
  },
  {
   "cell_type": "code",
   "execution_count": 62,
   "id": "ce08602f",
   "metadata": {},
   "outputs": [],
   "source": [
    "from keras.models import Sequential\n",
    "from keras.layers import *"
   ]
  },
  {
   "cell_type": "code",
   "execution_count": 63,
   "id": "d51c9794",
   "metadata": {},
   "outputs": [
    {
     "name": "stdout",
     "output_type": "stream",
     "text": [
      "Model: \"sequential\"\n",
      "_________________________________________________________________\n",
      " Layer (type)                Output Shape              Param #   \n",
      "=================================================================\n",
      " lstm (LSTM)                 (None, 10, 64)            29440     \n",
      "                                                                 \n",
      " lstm_1 (LSTM)               (None, 64)                33024     \n",
      "                                                                 \n",
      " dense (Dense)               (None, 32)                2080      \n",
      "                                                                 \n",
      " dense_1 (Dense)             (None, 5)                 165       \n",
      "                                                                 \n",
      "=================================================================\n",
      "Total params: 64,709\n",
      "Trainable params: 64,709\n",
      "Non-trainable params: 0\n",
      "_________________________________________________________________\n"
     ]
    }
   ],
   "source": [
    "model = Sequential()\n",
    "model.add(LSTM(64, input_shape = (10, 50), return_sequences = True))\n",
    "model.add(LSTM(64))\n",
    "model.add(Dense(32, activation = 'relu'))\n",
    "model.add(Dense(5, activation = 'softmax'))\n",
    "model.summary()"
   ]
  },
  {
   "cell_type": "code",
   "execution_count": 64,
   "id": "2cf90e0e",
   "metadata": {},
   "outputs": [],
   "source": [
    "model.compile(optimizer = 'adam', metrics = ['accuracy'], loss = 'categorical_crossentropy')"
   ]
  },
  {
   "cell_type": "code",
   "execution_count": 65,
   "id": "ab2244f1",
   "metadata": {},
   "outputs": [],
   "source": [
    "from keras.callbacks import EarlyStopping, ModelCheckpoint"
   ]
  },
  {
   "cell_type": "code",
   "execution_count": 69,
   "id": "04a05338",
   "metadata": {},
   "outputs": [],
   "source": [
    "es = EarlyStopping(patience = 30, mode = 'max', verbose = 1, monitor = 'val_accuracy')\n",
    "mc = ModelCheckpoint(filepath = 'best_model.h5', monitor = 'val_accuracy', verbose = 1, save_best_only = True, mode = 'max')"
   ]
  },
  {
   "cell_type": "code",
   "execution_count": 70,
   "id": "c8d1e880",
   "metadata": {},
   "outputs": [
    {
     "name": "stdout",
     "output_type": "stream",
     "text": [
      "Epoch 1/200\n",
      "4/4 [==============================] - ETA: 0s - loss: 1.5917 - accuracy: 0.2525 \n",
      "Epoch 1: val_accuracy improved from -inf to 0.30303, saving model to best_model.h5\n",
      "4/4 [==============================] - 14s 802ms/step - loss: 1.5917 - accuracy: 0.2525 - val_loss: 1.5690 - val_accuracy: 0.3030\n",
      "Epoch 2/200\n",
      "4/4 [==============================] - ETA: 0s - loss: 1.5438 - accuracy: 0.3434\n",
      "Epoch 2: val_accuracy did not improve from 0.30303\n",
      "4/4 [==============================] - 0s 43ms/step - loss: 1.5438 - accuracy: 0.3434 - val_loss: 1.5615 - val_accuracy: 0.3030\n",
      "Epoch 3/200\n",
      "4/4 [==============================] - ETA: 0s - loss: 1.4974 - accuracy: 0.3838\n",
      "Epoch 3: val_accuracy improved from 0.30303 to 0.33333, saving model to best_model.h5\n",
      "4/4 [==============================] - 0s 55ms/step - loss: 1.4974 - accuracy: 0.3838 - val_loss: 1.5552 - val_accuracy: 0.3333\n",
      "Epoch 4/200\n",
      "1/4 [======>.......................] - ETA: 0s - loss: 1.5120 - accuracy: 0.3125\n",
      "Epoch 4: val_accuracy did not improve from 0.33333\n",
      "4/4 [==============================] - 0s 35ms/step - loss: 1.4748 - accuracy: 0.3939 - val_loss: 1.5602 - val_accuracy: 0.2727\n",
      "Epoch 5/200\n",
      "4/4 [==============================] - ETA: 0s - loss: 1.4490 - accuracy: 0.4343\n",
      "Epoch 5: val_accuracy did not improve from 0.33333\n",
      "4/4 [==============================] - 0s 41ms/step - loss: 1.4490 - accuracy: 0.4343 - val_loss: 1.5649 - val_accuracy: 0.3333\n",
      "Epoch 6/200\n",
      "4/4 [==============================] - ETA: 0s - loss: 1.4396 - accuracy: 0.3636\n",
      "Epoch 6: val_accuracy did not improve from 0.33333\n",
      "4/4 [==============================] - 0s 39ms/step - loss: 1.4396 - accuracy: 0.3636 - val_loss: 1.5558 - val_accuracy: 0.2727\n",
      "Epoch 7/200\n",
      "1/4 [======>.......................] - ETA: 0s - loss: 1.4606 - accuracy: 0.3438\n",
      "Epoch 7: val_accuracy did not improve from 0.33333\n",
      "4/4 [==============================] - 0s 40ms/step - loss: 1.4153 - accuracy: 0.3535 - val_loss: 1.4903 - val_accuracy: 0.3333\n",
      "Epoch 8/200\n",
      "4/4 [==============================] - ETA: 0s - loss: 1.3452 - accuracy: 0.4343\n",
      "Epoch 8: val_accuracy did not improve from 0.33333\n",
      "4/4 [==============================] - 0s 42ms/step - loss: 1.3452 - accuracy: 0.4343 - val_loss: 1.4196 - val_accuracy: 0.3030\n",
      "Epoch 9/200\n",
      "1/4 [======>.......................] - ETA: 0s - loss: 1.3124 - accuracy: 0.4688\n",
      "Epoch 9: val_accuracy improved from 0.33333 to 0.39394, saving model to best_model.h5\n",
      "4/4 [==============================] - 0s 48ms/step - loss: 1.2878 - accuracy: 0.5152 - val_loss: 1.3608 - val_accuracy: 0.3939\n",
      "Epoch 10/200\n",
      "4/4 [==============================] - ETA: 0s - loss: 1.2550 - accuracy: 0.5051\n",
      "Epoch 10: val_accuracy improved from 0.39394 to 0.42424, saving model to best_model.h5\n",
      "4/4 [==============================] - 0s 58ms/step - loss: 1.2550 - accuracy: 0.5051 - val_loss: 1.3149 - val_accuracy: 0.4242\n",
      "Epoch 11/200\n",
      "4/4 [==============================] - ETA: 0s - loss: 1.1929 - accuracy: 0.5354\n",
      "Epoch 11: val_accuracy did not improve from 0.42424\n",
      "4/4 [==============================] - 0s 39ms/step - loss: 1.1929 - accuracy: 0.5354 - val_loss: 1.2975 - val_accuracy: 0.4242\n",
      "Epoch 12/200\n",
      "1/4 [======>.......................] - ETA: 0s - loss: 1.0746 - accuracy: 0.5938\n",
      "Epoch 12: val_accuracy improved from 0.42424 to 0.45455, saving model to best_model.h5\n",
      "4/4 [==============================] - 0s 50ms/step - loss: 1.1083 - accuracy: 0.5556 - val_loss: 1.2756 - val_accuracy: 0.4545\n",
      "Epoch 13/200\n",
      "1/4 [======>.......................] - ETA: 0s - loss: 1.0676 - accuracy: 0.5625\n",
      "Epoch 13: val_accuracy improved from 0.45455 to 0.51515, saving model to best_model.h5\n",
      "4/4 [==============================] - 0s 92ms/step - loss: 1.0525 - accuracy: 0.5960 - val_loss: 1.2577 - val_accuracy: 0.5152\n",
      "Epoch 14/200\n",
      "1/4 [======>.......................] - ETA: 0s - loss: 1.0120 - accuracy: 0.6562\n",
      "Epoch 14: val_accuracy improved from 0.51515 to 0.54545, saving model to best_model.h5\n",
      "4/4 [==============================] - 0s 54ms/step - loss: 0.9748 - accuracy: 0.6566 - val_loss: 1.2286 - val_accuracy: 0.5455\n",
      "Epoch 15/200\n",
      "4/4 [==============================] - ETA: 0s - loss: 0.8986 - accuracy: 0.6768\n",
      "Epoch 15: val_accuracy improved from 0.54545 to 0.57576, saving model to best_model.h5\n",
      "4/4 [==============================] - 0s 58ms/step - loss: 0.8986 - accuracy: 0.6768 - val_loss: 1.1787 - val_accuracy: 0.5758\n",
      "Epoch 16/200\n",
      "1/4 [======>.......................] - ETA: 0s - loss: 0.8527 - accuracy: 0.7500\n",
      "Epoch 16: val_accuracy improved from 0.57576 to 0.66667, saving model to best_model.h5\n",
      "4/4 [==============================] - 0s 54ms/step - loss: 0.8044 - accuracy: 0.7475 - val_loss: 1.1839 - val_accuracy: 0.6667\n",
      "Epoch 17/200\n",
      "1/4 [======>.......................] - ETA: 0s - loss: 0.5680 - accuracy: 0.8438\n",
      "Epoch 17: val_accuracy did not improve from 0.66667\n",
      "4/4 [==============================] - 0s 35ms/step - loss: 0.7357 - accuracy: 0.8283 - val_loss: 1.1580 - val_accuracy: 0.6364\n",
      "Epoch 18/200\n",
      "1/4 [======>.......................] - ETA: 0s - loss: 0.6121 - accuracy: 0.8750\n",
      "Epoch 18: val_accuracy improved from 0.66667 to 0.69697, saving model to best_model.h5\n",
      "4/4 [==============================] - 0s 51ms/step - loss: 0.6579 - accuracy: 0.8081 - val_loss: 1.0625 - val_accuracy: 0.6970\n",
      "Epoch 19/200\n",
      "1/4 [======>.......................] - ETA: 0s - loss: 0.6311 - accuracy: 0.8438\n",
      "Epoch 19: val_accuracy did not improve from 0.69697\n",
      "4/4 [==============================] - 0s 34ms/step - loss: 0.6119 - accuracy: 0.8182 - val_loss: 1.1946 - val_accuracy: 0.6364\n",
      "Epoch 20/200\n",
      "4/4 [==============================] - ETA: 0s - loss: 0.6153 - accuracy: 0.8182\n",
      "Epoch 20: val_accuracy improved from 0.69697 to 0.72727, saving model to best_model.h5\n",
      "4/4 [==============================] - 0s 55ms/step - loss: 0.6153 - accuracy: 0.8182 - val_loss: 0.9733 - val_accuracy: 0.7273\n",
      "Epoch 21/200\n",
      "4/4 [==============================] - ETA: 0s - loss: 0.5329 - accuracy: 0.7980\n",
      "Epoch 21: val_accuracy did not improve from 0.72727\n",
      "4/4 [==============================] - 0s 37ms/step - loss: 0.5329 - accuracy: 0.7980 - val_loss: 1.1435 - val_accuracy: 0.6364\n",
      "Epoch 22/200\n",
      "1/4 [======>.......................] - ETA: 0s - loss: 0.4656 - accuracy: 0.8438\n",
      "Epoch 22: val_accuracy did not improve from 0.72727\n",
      "4/4 [==============================] - 0s 33ms/step - loss: 0.4861 - accuracy: 0.8586 - val_loss: 0.9639 - val_accuracy: 0.7273\n",
      "Epoch 23/200\n",
      "4/4 [==============================] - ETA: 0s - loss: 0.4300 - accuracy: 0.8586\n",
      "Epoch 23: val_accuracy did not improve from 0.72727\n",
      "4/4 [==============================] - 0s 39ms/step - loss: 0.4300 - accuracy: 0.8586 - val_loss: 0.9715 - val_accuracy: 0.6970\n",
      "Epoch 24/200\n",
      "4/4 [==============================] - ETA: 0s - loss: 0.3471 - accuracy: 0.8990\n",
      "Epoch 24: val_accuracy did not improve from 0.72727\n",
      "4/4 [==============================] - 0s 42ms/step - loss: 0.3471 - accuracy: 0.8990 - val_loss: 0.8620 - val_accuracy: 0.6970\n",
      "Epoch 25/200\n",
      "4/4 [==============================] - ETA: 0s - loss: 0.2892 - accuracy: 0.9293\n",
      "Epoch 25: val_accuracy improved from 0.72727 to 0.75758, saving model to best_model.h5\n",
      "4/4 [==============================] - 0s 59ms/step - loss: 0.2892 - accuracy: 0.9293 - val_loss: 0.8908 - val_accuracy: 0.7576\n",
      "Epoch 26/200\n",
      "1/4 [======>.......................] - ETA: 0s - loss: 0.3266 - accuracy: 0.9062\n",
      "Epoch 26: val_accuracy did not improve from 0.75758\n",
      "4/4 [==============================] - 0s 34ms/step - loss: 0.4583 - accuracy: 0.8081 - val_loss: 0.9894 - val_accuracy: 0.7273\n",
      "Epoch 27/200\n",
      "4/4 [==============================] - ETA: 0s - loss: 0.3072 - accuracy: 0.8990\n",
      "Epoch 27: val_accuracy did not improve from 0.75758\n",
      "4/4 [==============================] - 0s 40ms/step - loss: 0.3072 - accuracy: 0.8990 - val_loss: 1.0561 - val_accuracy: 0.6970\n",
      "Epoch 28/200\n",
      "1/4 [======>.......................] - ETA: 0s - loss: 0.2614 - accuracy: 0.8750\n",
      "Epoch 28: val_accuracy did not improve from 0.75758\n",
      "4/4 [==============================] - 0s 32ms/step - loss: 0.3110 - accuracy: 0.8788 - val_loss: 1.1263 - val_accuracy: 0.6970\n",
      "Epoch 29/200\n",
      "1/4 [======>.......................] - ETA: 0s - loss: 0.5231 - accuracy: 0.8125\n",
      "Epoch 29: val_accuracy did not improve from 0.75758\n"
     ]
    },
    {
     "name": "stdout",
     "output_type": "stream",
     "text": [
      "4/4 [==============================] - 0s 36ms/step - loss: 0.4843 - accuracy: 0.8182 - val_loss: 1.0422 - val_accuracy: 0.7273\n",
      "Epoch 30/200\n",
      "4/4 [==============================] - ETA: 0s - loss: 0.3156 - accuracy: 0.8788\n",
      "Epoch 30: val_accuracy did not improve from 0.75758\n",
      "4/4 [==============================] - 0s 40ms/step - loss: 0.3156 - accuracy: 0.8788 - val_loss: 1.0297 - val_accuracy: 0.6970\n",
      "Epoch 31/200\n",
      "4/4 [==============================] - ETA: 0s - loss: 0.2656 - accuracy: 0.9091\n",
      "Epoch 31: val_accuracy did not improve from 0.75758\n",
      "4/4 [==============================] - 0s 37ms/step - loss: 0.2656 - accuracy: 0.9091 - val_loss: 0.9031 - val_accuracy: 0.7576\n",
      "Epoch 32/200\n",
      "1/4 [======>.......................] - ETA: 0s - loss: 0.1521 - accuracy: 0.9688\n",
      "Epoch 32: val_accuracy did not improve from 0.75758\n",
      "4/4 [==============================] - 0s 37ms/step - loss: 0.3459 - accuracy: 0.8586 - val_loss: 0.8559 - val_accuracy: 0.6970\n",
      "Epoch 33/200\n",
      "4/4 [==============================] - ETA: 0s - loss: 0.2139 - accuracy: 0.9293\n",
      "Epoch 33: val_accuracy did not improve from 0.75758\n",
      "4/4 [==============================] - 0s 39ms/step - loss: 0.2139 - accuracy: 0.9293 - val_loss: 0.9060 - val_accuracy: 0.7273\n",
      "Epoch 34/200\n",
      "4/4 [==============================] - ETA: 0s - loss: 0.1924 - accuracy: 0.9091\n",
      "Epoch 34: val_accuracy did not improve from 0.75758\n",
      "4/4 [==============================] - 0s 39ms/step - loss: 0.1924 - accuracy: 0.9091 - val_loss: 0.9504 - val_accuracy: 0.7273\n",
      "Epoch 35/200\n",
      "1/4 [======>.......................] - ETA: 0s - loss: 0.1305 - accuracy: 1.0000\n",
      "Epoch 35: val_accuracy did not improve from 0.75758\n",
      "4/4 [==============================] - 0s 35ms/step - loss: 0.1911 - accuracy: 0.9293 - val_loss: 1.0292 - val_accuracy: 0.6970\n",
      "Epoch 36/200\n",
      "1/4 [======>.......................] - ETA: 0s - loss: 0.1331 - accuracy: 0.9375\n",
      "Epoch 36: val_accuracy did not improve from 0.75758\n",
      "4/4 [==============================] - 0s 32ms/step - loss: 0.1551 - accuracy: 0.9495 - val_loss: 1.1075 - val_accuracy: 0.6970\n",
      "Epoch 37/200\n",
      "1/4 [======>.......................] - ETA: 0s - loss: 0.2012 - accuracy: 0.9062\n",
      "Epoch 37: val_accuracy did not improve from 0.75758\n",
      "4/4 [==============================] - 0s 37ms/step - loss: 0.1459 - accuracy: 0.9495 - val_loss: 1.1805 - val_accuracy: 0.6667\n",
      "Epoch 38/200\n",
      "4/4 [==============================] - ETA: 0s - loss: 0.1764 - accuracy: 0.9394\n",
      "Epoch 38: val_accuracy did not improve from 0.75758\n",
      "4/4 [==============================] - 0s 41ms/step - loss: 0.1764 - accuracy: 0.9394 - val_loss: 1.3051 - val_accuracy: 0.6364\n",
      "Epoch 39/200\n",
      "4/4 [==============================] - ETA: 0s - loss: 0.1845 - accuracy: 0.9091\n",
      "Epoch 39: val_accuracy did not improve from 0.75758\n",
      "4/4 [==============================] - 0s 40ms/step - loss: 0.1845 - accuracy: 0.9091 - val_loss: 1.1571 - val_accuracy: 0.7273\n",
      "Epoch 40/200\n",
      "1/4 [======>.......................] - ETA: 0s - loss: 0.1956 - accuracy: 0.9062\n",
      "Epoch 40: val_accuracy did not improve from 0.75758\n",
      "4/4 [==============================] - 0s 34ms/step - loss: 0.1876 - accuracy: 0.9091 - val_loss: 0.9330 - val_accuracy: 0.6970\n",
      "Epoch 41/200\n",
      "1/4 [======>.......................] - ETA: 0s - loss: 0.1430 - accuracy: 0.9688\n",
      "Epoch 41: val_accuracy did not improve from 0.75758\n",
      "4/4 [==============================] - 0s 36ms/step - loss: 0.2521 - accuracy: 0.9394 - val_loss: 0.9537 - val_accuracy: 0.7576\n",
      "Epoch 42/200\n",
      "4/4 [==============================] - ETA: 0s - loss: 0.1711 - accuracy: 0.9495\n",
      "Epoch 42: val_accuracy did not improve from 0.75758\n",
      "4/4 [==============================] - 0s 37ms/step - loss: 0.1711 - accuracy: 0.9495 - val_loss: 1.1712 - val_accuracy: 0.7273\n",
      "Epoch 43/200\n",
      "4/4 [==============================] - ETA: 0s - loss: 0.1870 - accuracy: 0.9394\n",
      "Epoch 43: val_accuracy did not improve from 0.75758\n",
      "4/4 [==============================] - 0s 42ms/step - loss: 0.1870 - accuracy: 0.9394 - val_loss: 1.3876 - val_accuracy: 0.6364\n",
      "Epoch 44/200\n",
      "4/4 [==============================] - ETA: 0s - loss: 0.1513 - accuracy: 0.9596\n",
      "Epoch 44: val_accuracy did not improve from 0.75758\n",
      "4/4 [==============================] - 0s 38ms/step - loss: 0.1513 - accuracy: 0.9596 - val_loss: 1.2956 - val_accuracy: 0.6667\n",
      "Epoch 45/200\n",
      "4/4 [==============================] - ETA: 0s - loss: 0.1897 - accuracy: 0.9394\n",
      "Epoch 45: val_accuracy did not improve from 0.75758\n",
      "4/4 [==============================] - 0s 39ms/step - loss: 0.1897 - accuracy: 0.9394 - val_loss: 1.5562 - val_accuracy: 0.6061\n",
      "Epoch 46/200\n",
      "4/4 [==============================] - ETA: 0s - loss: 0.3922 - accuracy: 0.8687\n",
      "Epoch 46: val_accuracy did not improve from 0.75758\n",
      "4/4 [==============================] - 0s 37ms/step - loss: 0.3922 - accuracy: 0.8687 - val_loss: 1.4734 - val_accuracy: 0.6667\n",
      "Epoch 47/200\n",
      "4/4 [==============================] - ETA: 0s - loss: 0.4544 - accuracy: 0.8586\n",
      "Epoch 47: val_accuracy did not improve from 0.75758\n",
      "4/4 [==============================] - 0s 42ms/step - loss: 0.4544 - accuracy: 0.8586 - val_loss: 1.4635 - val_accuracy: 0.6061\n",
      "Epoch 48/200\n",
      "1/4 [======>.......................] - ETA: 0s - loss: 0.3199 - accuracy: 0.8750\n",
      "Epoch 48: val_accuracy did not improve from 0.75758\n",
      "4/4 [==============================] - 0s 36ms/step - loss: 0.3556 - accuracy: 0.8889 - val_loss: 1.3837 - val_accuracy: 0.6364\n",
      "Epoch 49/200\n",
      "1/4 [======>.......................] - ETA: 0s - loss: 0.2353 - accuracy: 0.8438\n",
      "Epoch 49: val_accuracy did not improve from 0.75758\n",
      "4/4 [==============================] - 0s 36ms/step - loss: 0.1454 - accuracy: 0.9293 - val_loss: 1.2008 - val_accuracy: 0.6970\n",
      "Epoch 50/200\n",
      "4/4 [==============================] - ETA: 0s - loss: 0.1415 - accuracy: 0.9596\n",
      "Epoch 50: val_accuracy did not improve from 0.75758\n",
      "4/4 [==============================] - 0s 50ms/step - loss: 0.1415 - accuracy: 0.9596 - val_loss: 1.2192 - val_accuracy: 0.7273\n",
      "Epoch 51/200\n",
      "1/4 [======>.......................] - ETA: 0s - loss: 0.1886 - accuracy: 0.9375\n",
      "Epoch 51: val_accuracy did not improve from 0.75758\n",
      "4/4 [==============================] - 0s 36ms/step - loss: 0.1647 - accuracy: 0.9192 - val_loss: 1.2213 - val_accuracy: 0.7273\n",
      "Epoch 52/200\n",
      "1/4 [======>.......................] - ETA: 0s - loss: 0.0636 - accuracy: 1.0000\n",
      "Epoch 52: val_accuracy did not improve from 0.75758\n",
      "4/4 [==============================] - 0s 31ms/step - loss: 0.1058 - accuracy: 0.9697 - val_loss: 1.2015 - val_accuracy: 0.7273\n",
      "Epoch 53/200\n",
      "1/4 [======>.......................] - ETA: 0s - loss: 0.0618 - accuracy: 0.9688\n",
      "Epoch 53: val_accuracy did not improve from 0.75758\n",
      "4/4 [==============================] - 0s 35ms/step - loss: 0.0869 - accuracy: 0.9697 - val_loss: 1.1756 - val_accuracy: 0.6970\n",
      "Epoch 54/200\n",
      "4/4 [==============================] - ETA: 0s - loss: 0.0933 - accuracy: 0.9596\n",
      "Epoch 54: val_accuracy did not improve from 0.75758\n",
      "4/4 [==============================] - 0s 40ms/step - loss: 0.0933 - accuracy: 0.9596 - val_loss: 1.2108 - val_accuracy: 0.6364\n",
      "Epoch 55/200\n",
      "4/4 [==============================] - ETA: 0s - loss: 0.0775 - accuracy: 0.9697\n",
      "Epoch 55: val_accuracy did not improve from 0.75758\n",
      "4/4 [==============================] - 0s 38ms/step - loss: 0.0775 - accuracy: 0.9697 - val_loss: 1.2200 - val_accuracy: 0.6970\n",
      "Epoch 55: early stopping\n"
     ]
    }
   ],
   "source": [
    "hist = model.fit(X_train_embedding, Y_train_cat, epochs = 200, validation_split = 0.25, callbacks = [es, mc])"
   ]
  },
  {
   "cell_type": "code",
   "execution_count": 73,
   "id": "25e43313",
   "metadata": {},
   "outputs": [],
   "source": [
    "loss = hist.history['loss']\n",
    "accuracy = hist.history['accuracy']\n",
    "val_loss = hist.history['val_loss']\n",
    "val_accuracy = hist.history['val_accuracy']"
   ]
  },
  {
   "cell_type": "code",
   "execution_count": 74,
   "id": "6baf7f3a",
   "metadata": {},
   "outputs": [
    {
     "data": {
      "image/png": "[encoded data removed]",
      "text/plain": [
       "<Figure size 432x288 with 1 Axes>"
      ]
     },
     "metadata": {
      "needs_background": "light"
     },
     "output_type": "display_data"
    }
   ],
   "source": [
    "plt.plot(loss, label = 'loss')\n",
    "plt.plot(val_loss, label = 'val_loss')\n",
    "plt.legend()\n",
    "plt.show()"
   ]
  },
  {
   "cell_type": "code",
   "execution_count": 75,
   "id": "7d5cc549",
   "metadata": {},
   "outputs": [
    {
     "data": {
      "image/png": "[encoded data removed]",
      "text/plain": [
       "<Figure size 432x288 with 1 Axes>"
      ]
     },
     "metadata": {
      "needs_background": "light"
     },
     "output_type": "display_data"
    }
   ],
   "source": [
    "plt.plot(accuracy, label = 'accuracy')\n",
    "plt.plot(val_accuracy, label = 'val_accuracy')\n",
    "plt.legend()\n",
    "plt.show()"
   ]
  },
  {
   "cell_type": "code",
   "execution_count": 77,
   "id": "9c6dc7db",
   "metadata": {},
   "outputs": [],
   "source": [
    "from keras.models import load_model"
   ]
  },
  {
   "cell_type": "code",
   "execution_count": 78,
   "id": "97989825",
   "metadata": {},
   "outputs": [],
   "source": [
    "saved_model = load_model('./best_model.h5')"
   ]
  },
  {
   "cell_type": "code",
   "execution_count": 79,
   "id": "a91d28f4",
   "metadata": {},
   "outputs": [
    {
     "name": "stdout",
     "output_type": "stream",
     "text": [
      "5/5 [==============================] - 2s 10ms/step - loss: 0.4957 - accuracy: 0.8258\n"
     ]
    },
    {
     "data": {
      "text/plain": [
       "[0.49574342370033264, 0.8257575631141663]"
      ]
     },
     "execution_count": 79,
     "metadata": {},
     "output_type": "execute_result"
    }
   ],
   "source": [
    "saved_model.evaluate(X_train_embedding, Y_train_cat)saved_model.evaluate(X_train_embedding, Y_train_cat)"
   ]
  },
  {
   "cell_type": "code",
   "execution_count": 80,
   "id": "021ba047",
   "metadata": {},
   "outputs": [
    {
     "name": "stdout",
     "output_type": "stream",
     "text": [
      "2/2 [==============================] - 0s 11ms/step - loss: 0.6533 - accuracy: 0.7143\n"
     ]
    },
    {
     "data": {
      "text/plain": [
       "[0.6532823443412781, 0.7142857313156128]"
      ]
     },
     "execution_count": 80,
     "metadata": {},
     "output_type": "execute_result"
    }
   ],
   "source": [
    "saved_model.evaluate(X_test_embedding, Y_test_cat)"
   ]
  },
  {
   "cell_type": "code",
   "execution_count": 81,
   "id": "9c9bfde7",
   "metadata": {},
   "outputs": [
    {
     "name": "stdout",
     "output_type": "stream",
     "text": [
      "2/2 [==============================] - 2s 17ms/step\n"
     ]
    }
   ],
   "source": [
    "Y_pred_test = saved_model.predict(X_test_embedding)"
   ]
  },
  {
   "cell_type": "code",
   "execution_count": 84,
   "id": "448fd0e2",
   "metadata": {},
   "outputs": [],
   "source": [
    "Y_pred = Y_pred_test.argmax(axis = 1)"
   ]
  },
  {
   "cell_type": "code",
   "execution_count": 86,
   "id": "03a4942f",
   "metadata": {},
   "outputs": [
    {
     "name": "stdout",
     "output_type": "stream",
     "text": [
      "I want to eat 🍴\n",
      "he did not answer 😞\n",
      "he got a very nice raise 😃\n",
      "she got me a nice present ❤️\n",
      "ha ha ha it was so funny 😃\n",
      "he is a good friend 😃\n",
      "I am upset 😞\n",
      "We had such a lovely dinner tonight 😃\n",
      "where is the food 🍴\n",
      "Stop making this joke ha ha ha 😃\n",
      "where is the ball ⚾\n",
      "work is hard 😞\n",
      "This girl is messing with me 😞\n",
      "are you serious 😞\n",
      "Let us go play baseball ⚾\n",
      "This stupid grader is not working  😞\n",
      "work is horrible 😞\n",
      "Congratulation for having a baby ❤️\n",
      "stop pissing me off 😞\n",
      "any suggestions for dinner 😃\n",
      "I love taking breaks 😞\n",
      "you brighten my day ❤️\n",
      "I boiled rice 🍴\n",
      "she is a bully ❤️\n",
      "Why are you feeling bad 😞\n",
      "I am upset 😞\n",
      "give me the ball ⚾\n",
      "My grandmother is the love of my life ❤️\n",
      "enjoy your game ⚾\n",
      "valentine day is near 😃\n",
      "I miss you so much ❤️\n",
      "throw the ball ⚾\n",
      "My life is so boring ❤️\n",
      "she said yes 😞\n",
      "will you be my valentine ❤️\n",
      "he can pitch really well ⚾\n",
      "dance with me 😃\n",
      "I am hungry 🍴\n",
      "See you at the restaurant 😃\n",
      "I like to laugh 😃\n",
      "I will  run ⚾\n",
      "I like your jacket  ❤️\n",
      "i miss her 😞\n",
      "what is your favorite baseball game ⚾\n",
      "Good job 😞\n",
      "I love you to the stars and back 😃\n",
      "What you did was awesome 😞\n",
      "ha ha ha lol 😃\n",
      "I do not want to joke 😞\n",
      "go away 😞\n",
      "yesterday we lost again 😞\n",
      "family is all I have 😃\n",
      "you are failing this exercise 😞\n",
      "Good joke 😃\n",
      "You deserve this nice prize 😃\n",
      "I did not have breakfast  ❤️\n"
     ]
    }
   ],
   "source": [
    "for i, line in enumerate(X_test):\n",
    "    p_e = emoji.emojize(emoji_dictionary.get(str(Y_pred[i])))\n",
    "    print(line, p_e)"
   ]
  },
  {
   "cell_type": "code",
   "execution_count": 90,
   "id": "f4b01f2f",
   "metadata": {},
   "outputs": [],
   "source": [
    "with open('model_json.json', 'w') as file:\n",
    "    file.write(saved_model.to_json())"
   ]
  },
  {
   "cell_type": "code",
   "execution_count": null,
   "id": "bf20f8fe",
   "metadata": {},
   "outputs": [],
   "source": []
  }
 ],
 "metadata": {
  "kernelspec": {
   "display_name": "Python 3 (ipykernel)",
   "language": "python",
   "name": "python3"
  },
  "language_info": {
   "codemirror_mode": {
    "name": "ipython",
    "version": 3
   },
   "file_extension": ".py",
   "mimetype": "text/x-python",
   "name": "python",
   "nbconvert_exporter": "python",
   "pygments_lexer": "ipython3",
   "version": "3.9.12"
  }
 },
 "nbformat": 4,
 "nbformat_minor": 5
}
